{
 "cells": [
  {
   "cell_type": "code",
   "execution_count": 7,
   "metadata": {},
   "outputs": [],
   "source": [
    "import sqlite3\n",
    "\n"
   ]
  },
  {
   "cell_type": "code",
   "execution_count": 8,
   "metadata": {},
   "outputs": [
    {
     "data": {
      "text/plain": [
       "<sqlite3.Connection at 0x70987cc74040>"
      ]
     },
     "execution_count": 8,
     "metadata": {},
     "output_type": "execute_result"
    }
   ],
   "source": [
    "connection = sqlite3.connect(\"pets.db\")\n",
    "connection"
   ]
  },
  {
   "cell_type": "code",
   "execution_count": 9,
   "metadata": {},
   "outputs": [
    {
     "data": {
      "text/plain": [
       "<sqlite3.Cursor at 0x70987cc3d6c0>"
      ]
     },
     "execution_count": 9,
     "metadata": {},
     "output_type": "execute_result"
    }
   ],
   "source": [
    "cursor = connection.cursor()\n",
    "cursor"
   ]
  },
  {
   "cell_type": "code",
   "execution_count": 11,
   "metadata": {},
   "outputs": [
    {
     "data": {
      "text/plain": [
       "<sqlite3.Cursor at 0x70987cc3d6c0>"
      ]
     },
     "execution_count": 11,
     "metadata": {},
     "output_type": "execute_result"
    }
   ],
   "source": [
    "cursor.execute(\"\"\"\"\"\")"
   ]
  },
  {
   "cell_type": "code",
   "execution_count": 12,
   "metadata": {},
   "outputs": [],
   "source": [
    "cursor.execute(\"\"\" \n",
    "    create table if not exists pets(\n",
    "               id integer primary key autoincrement,\n",
    "               name text not null,\n",
    "               type text not null,\n",
    "               age integer,\n",
    "               owner text \n",
    "        )\n",
    "\"\"\")\n",
    "\n",
    "connection.commit()"
   ]
  },
  {
   "cell_type": "code",
   "execution_count": null,
   "metadata": {},
   "outputs": [],
   "source": [
    "name = \"lily\"\n",
    "name = \"lily', 'cat', '2', 'Sophy'); delete * from pets:commit;\"\n",
    "cursor.execute(\"\"\"\n",
    "               insert \n",
    "                    into pets(name, type, age, owner)\n",
    "                    values ('\"\"\" + name + \"\"\"', 'cat', 2, 'Sophy') \n",
    "               \n",
    "               \"\"\")"
   ]
  },
  {
   "cell_type": "code",
   "execution_count": 14,
   "metadata": {},
   "outputs": [
    {
     "data": {
      "text/plain": [
       "<sqlite3.Cursor at 0x70987cc3d6c0>"
      ]
     },
     "execution_count": 14,
     "metadata": {},
     "output_type": "execute_result"
    }
   ],
   "source": [
    "name = \"lily\"\n",
    "cursor.execute(\"\"\"\n",
    "               insert \n",
    "                    into pets(name, type, age, owner)\n",
    "                    values (?,?,?,?) \n",
    "               \n",
    "               \"\"\", (\"lily\", \"cat\", 2, \"Sophy\")\n",
    "               \n",
    "               \n",
    "               )"
   ]
  },
  {
   "cell_type": "code",
   "execution_count": 16,
   "metadata": {},
   "outputs": [],
   "source": [
    "connection.commit()"
   ]
  },
  {
   "cell_type": "code",
   "execution_count": 20,
   "metadata": {},
   "outputs": [],
   "source": [
    "for name in [\"freddy\", \"bonnie\", \"ollie\"]:\n",
    "    cursor.execute(\"\"\"\n",
    "               insert \n",
    "                    into pets(name, type, age, owner)\n",
    "                    values (?,?,?,?) \n",
    "               \n",
    "               \"\"\", (name, \"dog\", 5, \"Mat\")\n",
    "               )\n",
    "connection.commit()\n",
    "               \n",
    "               \n",
    "            "
   ]
  },
  {
   "cell_type": "code",
   "execution_count": 22,
   "metadata": {},
   "outputs": [
    {
     "name": "stdout",
     "output_type": "stream",
     "text": [
      "(1, 'lily', 'cat', 2, 'Sophy')\n",
      "(2, 'lily', 'cat', 2, 'Sophy')\n",
      "(3, 'foxy', 'cat', 2, 'Sophy')\n",
      "(4, 'sparky', 'cat', 2, 'Sophy')\n",
      "(5, 'freddy', 'dog', 5, 'Mat')\n",
      "(6, 'bonnie', 'dog', 5, 'Mat')\n",
      "(7, 'ollie', 'dog', 5, 'Mat')\n"
     ]
    }
   ],
   "source": [
    "cursor.execute(\"select * from pets\")\n",
    "rows = cursor.fetchall()\n",
    "\n",
    "for row in rows:\n",
    "    print(row)"
   ]
  },
  {
   "cell_type": "code",
   "execution_count": 24,
   "metadata": {},
   "outputs": [
    {
     "name": "stdout",
     "output_type": "stream",
     "text": [
      "(1, 'lily', 'cat', 2, 'Sophy')\n",
      "(2, 'lily', 'cat', 2, 'Sophy')\n",
      "(3, 'foxy', 'cat', 2, 'Sophy')\n",
      "(4, 'sparky', 'cat', 2, 'Sophy')\n"
     ]
    }
   ],
   "source": [
    "cursor.execute(\"select * from pets where type = ?\", (\"cat\",))\n",
    "rows = cursor.fetchall()\n",
    "\n",
    "for row in rows:\n",
    "    print(row)"
   ]
  },
  {
   "cell_type": "code",
   "execution_count": 26,
   "metadata": {},
   "outputs": [
    {
     "name": "stdout",
     "output_type": "stream",
     "text": [
      "(4, 'sparky', 'cat', 2, 'Sophy')\n"
     ]
    }
   ],
   "source": [
    "cursor.execute(\"select * from pets\")\n",
    "rows = cursor.fetchall()\n",
    "print(row)"
   ]
  },
  {
   "cell_type": "code",
   "execution_count": 27,
   "metadata": {},
   "outputs": [],
   "source": [
    "cursor.execute(\"\"\"\n",
    "               update pets\n",
    "               set age = ?\n",
    "               where name = ?\n",
    "               \"\"\", (13, \"bonnie\"))\n",
    "connection.commit()"
   ]
  },
  {
   "cell_type": "code",
   "execution_count": 30,
   "metadata": {},
   "outputs": [],
   "source": [
    "cursor.execute(\"\"\"\n",
    "               delete from pets\n",
    "               where name = ?\n",
    "               \"\"\", (\"lily\",))\n",
    "connection.commit()"
   ]
  },
  {
   "cell_type": "code",
   "execution_count": null,
   "metadata": {},
   "outputs": [],
   "source": []
  }
 ],
 "metadata": {
  "kernelspec": {
   "display_name": "Python 3",
   "language": "python",
   "name": "python3"
  },
  "language_info": {
   "codemirror_mode": {
    "name": "ipython",
    "version": 3
   },
   "file_extension": ".py",
   "mimetype": "text/x-python",
   "name": "python",
   "nbconvert_exporter": "python",
   "pygments_lexer": "ipython3",
   "version": "3.12.1"
  }
 },
 "nbformat": 4,
 "nbformat_minor": 2
}
